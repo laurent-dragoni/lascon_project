{
 "cells": [
  {
   "cell_type": "code",
   "execution_count": 81,
   "metadata": {},
   "outputs": [
    {
     "name": "stdout",
     "output_type": "stream",
     "text": [
      "Populating the interactive namespace from numpy and matplotlib\n"
     ]
    }
   ],
   "source": [
    "%pylab inline"
   ]
  },
  {
   "cell_type": "code",
   "execution_count": 82,
   "metadata": {
    "collapsed": true
   },
   "outputs": [],
   "source": [
    "import nest\n",
    "import nest.topology as topo # import topology as a submodule of nest\n",
    "import nest.raster_plot\n",
    "import numpy as np"
   ]
  },
  {
   "cell_type": "code",
   "execution_count": 83,
   "metadata": {
    "collapsed": true
   },
   "outputs": [],
   "source": [
    "nest.ResetKernel()"
   ]
  },
  {
   "cell_type": "code",
   "execution_count": 84,
   "metadata": {},
   "outputs": [],
   "source": [
    "'''extension of the grid'''\n",
    "\n",
    "#ext = 2. # here we use a square layer of size (ext x ext)\n",
    "ext_hc = 640 # 640 micrometers of diameter in each HC\n",
    "ext_mc_l = ext_hc/4. # 160 micrometers of lenght in each MC\n",
    "ext_mc_w = ext_hc/3. # 160 micrometers of width in each MC\n",
    "\n",
    "'''number of neurons and layers'''\n",
    "\n",
    "n_pyr=30                             #pyramidal neurons in each minicolumn\n",
    "n_bc=24                              #basket cells in each hypercolumn\n",
    "n_top=192                            #number of minicolumns (12 in each of the 16 hipercolumns)\n",
    "n_hc=16                              #number of hypercolumns\n",
    "\n",
    "''''''\n",
    "\n",
    "n=-1\n",
    "m=0\n",
    "p1=[0]*(n_top/n_hc)\n",
    "p2=[0]*n_hc\n",
    "pos1=[0]*(n_top*n_pyr)\n",
    "\n",
    "#position of the center of each pyramidal neuron layer\n",
    "\n",
    "for i in range (n_hc):\n",
    "    if (i%4==0):\n",
    "        n=n+1\n",
    "    for j in range (3):\n",
    "        p1[j]=(j+0.5)*ext_mc_w+n*ext_hc\n",
    "        for k in range (4):\n",
    "            p2[k]=(k+0.5)*ext_mc_l+(i%4)*ext_hc\n",
    "            for l in range (n_pyr):\n",
    "                pos1[m] = [p1[j]+np.random.uniform(-ext_mc_w/2,ext_mc_w/2), p2[k]+np.random.uniform(-ext_mc_l/2,ext_mc_l/2)]\n",
    "                m=m+1\n",
    "                \n"
   ]
  },
  {
   "cell_type": "code",
   "execution_count": 85,
   "metadata": {},
   "outputs": [],
   "source": [
    "#for i in range(4320,4680):\n",
    "#    print pos1[i]"
   ]
  },
  {
   "cell_type": "code",
   "execution_count": null,
   "metadata": {},
   "outputs": [],
   "source": []
  },
  {
   "cell_type": "code",
   "execution_count": 116,
   "metadata": {
    "collapsed": true
   },
   "outputs": [],
   "source": [
    "'''position of all the basket cells in the model'''\n",
    "\n",
    "n=-1\n",
    "k=0\n",
    "l=0\n",
    "p3=[0]*(n_hc/4)\n",
    "p4=[0]*(n_hc/4)\n",
    "pos2=[0]*(n_hc*n_bc)\n",
    "\n",
    "#position of each basket cell: pos2\n",
    "\n",
    "for i in range (4):\n",
    "    if (i%4==0):\n",
    "        n=n+1\n",
    "    p3[i]=(i+0.5)*ext_hc\n",
    "    for j in range (4):\n",
    "        p4[j]=(j+0.5)*ext_hc\n",
    "        for l in range (n_bc):    \n",
    "            pos2[k] = [p3[i]+np.random.uniform(-ext_hc/2,ext_hc/2), p4[j]+np.random.uniform(-ext_hc/2,ext_hc/2)]\n",
    "            k=k+1\n"
   ]
  },
  {
   "cell_type": "code",
   "execution_count": 131,
   "metadata": {},
   "outputs": [],
   "source": [
    "#for i in range (96,120):\n",
    "#    print pos2[i]"
   ]
  },
  {
   "cell_type": "code",
   "execution_count": 126,
   "metadata": {
    "collapsed": true
   },
   "outputs": [],
   "source": [
    "hc_pyr=[0]*(n_hc)\n",
    "hc_bc=[0]*(n_hc)\n",
    "mc=[0]*n_top\n",
    "\n",
    "'''dividing the pyramical neurons in groups of 360 neurons (the number in each HC)'''\n",
    "for i in range (n_hc):\n",
    "    hc_pyr[i]= [pos1[j] for j in range (i*n_pyr*n_top/n_hc,(i+1)*n_pyr*n_top/n_hc)]\n",
    "\n",
    "    \n",
    "'''dividing the basket cells in groups of 24 neurons'''\n",
    "for i in range (n_hc):\n",
    "    hc_bc[i]= [pos2[j] for j in range (i*n_bc,(i+1)*n_bc)]\n",
    "    \n"
   ]
  },
  {
   "cell_type": "code",
   "execution_count": null,
   "metadata": {},
   "outputs": [],
   "source": []
  },
  {
   "cell_type": "code",
   "execution_count": 130,
   "metadata": {},
   "outputs": [],
   "source": [
    "#print hc_pyr[1]\n",
    "#print hc_bc[3]"
   ]
  },
  {
   "cell_type": "code",
   "execution_count": 139,
   "metadata": {},
   "outputs": [],
   "source": [
    "layer_pyr = [0]*n_hc\n",
    "for i in range(n_hc):\n",
    "    layer_pyr[i] = {\n",
    "        'extent': [0, 4*ext_hc],\n",
    "        'positions': hc_pyr[i],\n",
    "        #'elements': 'iaf_neuron'\n",
    "        'elements': 'aeif_cond_alpha'  #adaptative exponential integrate and firing as neuron model\n",
    "    }\n",
    "    \n",
    "for i in range (n_hc):\n",
    "    layer_bc[i] = {\n",
    "        'extent': [0, 4*ext_hc],\n",
    "        'positions': hc_bc[i],\n",
    "        #'elements': 'iaf_neuron'\n",
    "        'elements': 'aeif_cond_alpha'  #adaptative exponential integrate and firing as neuron model\n",
    "    }"
   ]
  },
  {
   "cell_type": "code",
   "execution_count": null,
   "metadata": {
    "collapsed": true
   },
   "outputs": [],
   "source": []
  },
  {
   "cell_type": "code",
   "execution_count": null,
   "metadata": {
    "collapsed": true
   },
   "outputs": [],
   "source": []
  },
  {
   "cell_type": "code",
   "execution_count": null,
   "metadata": {
    "collapsed": true
   },
   "outputs": [],
   "source": []
  },
  {
   "cell_type": "code",
   "execution_count": null,
   "metadata": {
    "collapsed": true
   },
   "outputs": [],
   "source": []
  },
  {
   "cell_type": "code",
   "execution_count": null,
   "metadata": {
    "collapsed": true
   },
   "outputs": [],
   "source": []
  },
  {
   "cell_type": "code",
   "execution_count": null,
   "metadata": {
    "collapsed": true
   },
   "outputs": [],
   "source": []
  },
  {
   "cell_type": "code",
   "execution_count": null,
   "metadata": {
    "collapsed": true
   },
   "outputs": [],
   "source": []
  },
  {
   "cell_type": "code",
   "execution_count": null,
   "metadata": {
    "collapsed": true
   },
   "outputs": [],
   "source": []
  },
  {
   "cell_type": "code",
   "execution_count": 155,
   "metadata": {},
   "outputs": [
    {
     "ename": "NESTError",
     "evalue": "TypeMismatch in CreateLayer_D: Expected datatype: doubletype\nProvided datatype: integertype",
     "output_type": "error",
     "traceback": [
      "\u001b[0;31m---------------------------------------------------------------------------\u001b[0m",
      "\u001b[0;31mNESTError\u001b[0m                                 Traceback (most recent call last)",
      "\u001b[0;32m<ipython-input-155-63f6cc9e807f>\u001b[0m in \u001b[0;36m<module>\u001b[0;34m()\u001b[0m\n\u001b[1;32m      3\u001b[0m \u001b[0;31m##################################################\u001b[0m\u001b[0;34m\u001b[0m\u001b[0;34m\u001b[0m\u001b[0m\n\u001b[1;32m      4\u001b[0m \u001b[0;34m\u001b[0m\u001b[0m\n\u001b[0;32m----> 5\u001b[0;31m \u001b[0mmc\u001b[0m\u001b[0;34m=\u001b[0m\u001b[0mtopo\u001b[0m\u001b[0;34m.\u001b[0m\u001b[0mCreateLayer\u001b[0m\u001b[0;34m(\u001b[0m\u001b[0mlayer_pyr\u001b[0m\u001b[0;34m[\u001b[0m\u001b[0;36m0\u001b[0m\u001b[0;34m]\u001b[0m\u001b[0;34m)\u001b[0m\u001b[0;34m\u001b[0m\u001b[0m\n\u001b[0m",
      "\u001b[0;32m/home/debastiani/lascon/nest-simulator-2.14.0-build/lib/python2.7/site-packages/nest/topology/hl_api.pyc\u001b[0m in \u001b[0;36mCreateLayer\u001b[0;34m(specs)\u001b[0m\n\u001b[1;32m    652\u001b[0m             \u001b[0mhlh\u001b[0m\u001b[0;34m.\u001b[0m\u001b[0mmodel_deprecation_warning\u001b[0m\u001b[0;34m(\u001b[0m\u001b[0melements\u001b[0m\u001b[0;34m)\u001b[0m\u001b[0;34m\u001b[0m\u001b[0m\n\u001b[1;32m    653\u001b[0m \u001b[0;34m\u001b[0m\u001b[0m\n\u001b[0;32m--> 654\u001b[0;31m     \u001b[0;32mreturn\u001b[0m \u001b[0mtopology_func\u001b[0m\u001b[0;34m(\u001b[0m\u001b[0;34m'{ CreateLayer } Map'\u001b[0m\u001b[0;34m,\u001b[0m \u001b[0mspecs\u001b[0m\u001b[0;34m)\u001b[0m\u001b[0;34m\u001b[0m\u001b[0m\n\u001b[0m\u001b[1;32m    655\u001b[0m \u001b[0;34m\u001b[0m\u001b[0m\n\u001b[1;32m    656\u001b[0m \u001b[0;34m\u001b[0m\u001b[0m\n",
      "\u001b[0;32m/home/debastiani/lascon/nest-simulator-2.14.0-build/lib/python2.7/site-packages/nest/topology/hl_api.pyc\u001b[0m in \u001b[0;36mtopology_func\u001b[0;34m(slifunc, *args)\u001b[0m\n\u001b[1;32m     96\u001b[0m     \"\"\"\n\u001b[1;32m     97\u001b[0m \u001b[0;34m\u001b[0m\u001b[0m\n\u001b[0;32m---> 98\u001b[0;31m     \u001b[0;32mreturn\u001b[0m \u001b[0mnest\u001b[0m\u001b[0;34m.\u001b[0m\u001b[0msli_func\u001b[0m\u001b[0;34m(\u001b[0m\u001b[0mslifunc\u001b[0m\u001b[0;34m,\u001b[0m \u001b[0;34m*\u001b[0m\u001b[0margs\u001b[0m\u001b[0;34m)\u001b[0m\u001b[0;34m\u001b[0m\u001b[0m\n\u001b[0m\u001b[1;32m     99\u001b[0m \u001b[0;34m\u001b[0m\u001b[0m\n\u001b[1;32m    100\u001b[0m \u001b[0;34m\u001b[0m\u001b[0m\n",
      "\u001b[0;32m/home/debastiani/lascon/nest-simulator-2.14.0-build/lib/python2.7/site-packages/nest/__init__.pyc\u001b[0m in \u001b[0;36msli_func\u001b[0;34m(s, *args, **kwargs)\u001b[0m\n\u001b[1;32m    165\u001b[0m     \u001b[0msli_push\u001b[0m\u001b[0;34m(\u001b[0m\u001b[0margs\u001b[0m\u001b[0;34m)\u001b[0m       \u001b[0;31m# push array of arguments on SLI stack\u001b[0m\u001b[0;34m\u001b[0m\u001b[0m\n\u001b[1;32m    166\u001b[0m     \u001b[0msli_push\u001b[0m\u001b[0;34m(\u001b[0m\u001b[0ms\u001b[0m\u001b[0;34m)\u001b[0m          \u001b[0;31m# push command string\u001b[0m\u001b[0;34m\u001b[0m\u001b[0m\n\u001b[0;32m--> 167\u001b[0;31m     \u001b[0msli_run\u001b[0m\u001b[0;34m(\u001b[0m\u001b[0mslifun\u001b[0m\u001b[0;34m)\u001b[0m      \u001b[0;31m# SLI support code to execute s on args\u001b[0m\u001b[0;34m\u001b[0m\u001b[0m\n\u001b[0m\u001b[1;32m    168\u001b[0m     \u001b[0mr\u001b[0m \u001b[0;34m=\u001b[0m \u001b[0msli_pop\u001b[0m\u001b[0;34m(\u001b[0m\u001b[0;34m)\u001b[0m        \u001b[0;31m# return value is an array\u001b[0m\u001b[0;34m\u001b[0m\u001b[0m\n\u001b[1;32m    169\u001b[0m \u001b[0;34m\u001b[0m\u001b[0m\n",
      "\u001b[0;32m/home/debastiani/lascon/nest-simulator-2.14.0-build/lib/python2.7/site-packages/nest/__init__.pyc\u001b[0m in \u001b[0;36mcatching_sli_run\u001b[0;34m(cmd)\u001b[0m\n\u001b[1;32m    115\u001b[0m         \u001b[0mengine\u001b[0m\u001b[0;34m.\u001b[0m\u001b[0mrun\u001b[0m\u001b[0;34m(\u001b[0m\u001b[0;34m'clear'\u001b[0m\u001b[0;34m)\u001b[0m\u001b[0;34m\u001b[0m\u001b[0m\n\u001b[1;32m    116\u001b[0m         \u001b[0merrorstring\u001b[0m \u001b[0;34m=\u001b[0m \u001b[0;34m'%s in %s%s'\u001b[0m \u001b[0;34m%\u001b[0m \u001b[0;34m(\u001b[0m\u001b[0merrorname\u001b[0m\u001b[0;34m,\u001b[0m \u001b[0mcommandname\u001b[0m\u001b[0;34m,\u001b[0m \u001b[0mmessage\u001b[0m\u001b[0;34m)\u001b[0m\u001b[0;34m\u001b[0m\u001b[0m\n\u001b[0;32m--> 117\u001b[0;31m         \u001b[0;32mraise\u001b[0m \u001b[0m_kernel\u001b[0m\u001b[0;34m.\u001b[0m\u001b[0mNESTError\u001b[0m\u001b[0;34m(\u001b[0m\u001b[0mencode\u001b[0m\u001b[0;34m(\u001b[0m\u001b[0merrorstring\u001b[0m\u001b[0;34m)\u001b[0m\u001b[0;34m)\u001b[0m\u001b[0;34m\u001b[0m\u001b[0m\n\u001b[0m\u001b[1;32m    118\u001b[0m \u001b[0;34m\u001b[0m\u001b[0m\n\u001b[1;32m    119\u001b[0m \u001b[0msli_run\u001b[0m \u001b[0;34m=\u001b[0m \u001b[0mhl_api\u001b[0m\u001b[0;34m.\u001b[0m\u001b[0msr\u001b[0m \u001b[0;34m=\u001b[0m \u001b[0mcatching_sli_run\u001b[0m\u001b[0;34m\u001b[0m\u001b[0m\n",
      "\u001b[0;31mNESTError\u001b[0m: TypeMismatch in CreateLayer_D: Expected datatype: doubletype\nProvided datatype: integertype"
     ]
    }
   ],
   "source": [
    "################################################################\n",
    "######         TRYING TO FIX THE NEXT STEPS        #############\n",
    "################################################################\n",
    "\n",
    "mc=topo.CreateLayer(layer_pyr[0])"
   ]
  },
  {
   "cell_type": "code",
   "execution_count": 152,
   "metadata": {},
   "outputs": [
    {
     "ename": "NESTError",
     "evalue": "TypeMismatch in CreateLayer_D: Expected datatype: doubletype\nProvided datatype: integertype",
     "output_type": "error",
     "traceback": [
      "\u001b[0;31m---------------------------------------------------------------------------\u001b[0m",
      "\u001b[0;31mNESTError\u001b[0m                                 Traceback (most recent call last)",
      "\u001b[0;32m<ipython-input-152-bb055914e8c7>\u001b[0m in \u001b[0;36m<module>\u001b[0;34m()\u001b[0m\n\u001b[1;32m      1\u001b[0m \u001b[0mmc\u001b[0m\u001b[0;34m=\u001b[0m\u001b[0;34m[\u001b[0m\u001b[0;36m0\u001b[0m\u001b[0;34m]\u001b[0m\u001b[0;34m*\u001b[0m\u001b[0mn_hc\u001b[0m\u001b[0;34m\u001b[0m\u001b[0m\n\u001b[1;32m      2\u001b[0m \u001b[0;32mfor\u001b[0m \u001b[0mi\u001b[0m \u001b[0;32min\u001b[0m \u001b[0mrange\u001b[0m \u001b[0;34m(\u001b[0m\u001b[0mn_hc\u001b[0m\u001b[0;34m)\u001b[0m\u001b[0;34m:\u001b[0m            \u001b[0;31m#create the minicolumns with pyramidal cells    #using range (0,n_top-1) is iqual to range(n_top-1)\u001b[0m\u001b[0;34m\u001b[0m\u001b[0m\n\u001b[0;32m----> 3\u001b[0;31m     \u001b[0mmc\u001b[0m\u001b[0;34m[\u001b[0m\u001b[0mi\u001b[0m\u001b[0;34m]\u001b[0m\u001b[0;34m=\u001b[0m\u001b[0mtopo\u001b[0m\u001b[0;34m.\u001b[0m\u001b[0mCreateLayer\u001b[0m\u001b[0;34m(\u001b[0m\u001b[0mlayer_pyr\u001b[0m\u001b[0;34m[\u001b[0m\u001b[0;36m0\u001b[0m\u001b[0;34m]\u001b[0m\u001b[0;34m)\u001b[0m\u001b[0;34m\u001b[0m\u001b[0m\n\u001b[0m\u001b[1;32m      4\u001b[0m \u001b[0;34m\u001b[0m\u001b[0m\n",
      "\u001b[0;32m/home/debastiani/lascon/nest-simulator-2.14.0-build/lib/python2.7/site-packages/nest/topology/hl_api.pyc\u001b[0m in \u001b[0;36mCreateLayer\u001b[0;34m(specs)\u001b[0m\n\u001b[1;32m    652\u001b[0m             \u001b[0mhlh\u001b[0m\u001b[0;34m.\u001b[0m\u001b[0mmodel_deprecation_warning\u001b[0m\u001b[0;34m(\u001b[0m\u001b[0melements\u001b[0m\u001b[0;34m)\u001b[0m\u001b[0;34m\u001b[0m\u001b[0m\n\u001b[1;32m    653\u001b[0m \u001b[0;34m\u001b[0m\u001b[0m\n\u001b[0;32m--> 654\u001b[0;31m     \u001b[0;32mreturn\u001b[0m \u001b[0mtopology_func\u001b[0m\u001b[0;34m(\u001b[0m\u001b[0;34m'{ CreateLayer } Map'\u001b[0m\u001b[0;34m,\u001b[0m \u001b[0mspecs\u001b[0m\u001b[0;34m)\u001b[0m\u001b[0;34m\u001b[0m\u001b[0m\n\u001b[0m\u001b[1;32m    655\u001b[0m \u001b[0;34m\u001b[0m\u001b[0m\n\u001b[1;32m    656\u001b[0m \u001b[0;34m\u001b[0m\u001b[0m\n",
      "\u001b[0;32m/home/debastiani/lascon/nest-simulator-2.14.0-build/lib/python2.7/site-packages/nest/topology/hl_api.pyc\u001b[0m in \u001b[0;36mtopology_func\u001b[0;34m(slifunc, *args)\u001b[0m\n\u001b[1;32m     96\u001b[0m     \"\"\"\n\u001b[1;32m     97\u001b[0m \u001b[0;34m\u001b[0m\u001b[0m\n\u001b[0;32m---> 98\u001b[0;31m     \u001b[0;32mreturn\u001b[0m \u001b[0mnest\u001b[0m\u001b[0;34m.\u001b[0m\u001b[0msli_func\u001b[0m\u001b[0;34m(\u001b[0m\u001b[0mslifunc\u001b[0m\u001b[0;34m,\u001b[0m \u001b[0;34m*\u001b[0m\u001b[0margs\u001b[0m\u001b[0;34m)\u001b[0m\u001b[0;34m\u001b[0m\u001b[0m\n\u001b[0m\u001b[1;32m     99\u001b[0m \u001b[0;34m\u001b[0m\u001b[0m\n\u001b[1;32m    100\u001b[0m \u001b[0;34m\u001b[0m\u001b[0m\n",
      "\u001b[0;32m/home/debastiani/lascon/nest-simulator-2.14.0-build/lib/python2.7/site-packages/nest/__init__.pyc\u001b[0m in \u001b[0;36msli_func\u001b[0;34m(s, *args, **kwargs)\u001b[0m\n\u001b[1;32m    165\u001b[0m     \u001b[0msli_push\u001b[0m\u001b[0;34m(\u001b[0m\u001b[0margs\u001b[0m\u001b[0;34m)\u001b[0m       \u001b[0;31m# push array of arguments on SLI stack\u001b[0m\u001b[0;34m\u001b[0m\u001b[0m\n\u001b[1;32m    166\u001b[0m     \u001b[0msli_push\u001b[0m\u001b[0;34m(\u001b[0m\u001b[0ms\u001b[0m\u001b[0;34m)\u001b[0m          \u001b[0;31m# push command string\u001b[0m\u001b[0;34m\u001b[0m\u001b[0m\n\u001b[0;32m--> 167\u001b[0;31m     \u001b[0msli_run\u001b[0m\u001b[0;34m(\u001b[0m\u001b[0mslifun\u001b[0m\u001b[0;34m)\u001b[0m      \u001b[0;31m# SLI support code to execute s on args\u001b[0m\u001b[0;34m\u001b[0m\u001b[0m\n\u001b[0m\u001b[1;32m    168\u001b[0m     \u001b[0mr\u001b[0m \u001b[0;34m=\u001b[0m \u001b[0msli_pop\u001b[0m\u001b[0;34m(\u001b[0m\u001b[0;34m)\u001b[0m        \u001b[0;31m# return value is an array\u001b[0m\u001b[0;34m\u001b[0m\u001b[0m\n\u001b[1;32m    169\u001b[0m \u001b[0;34m\u001b[0m\u001b[0m\n",
      "\u001b[0;32m/home/debastiani/lascon/nest-simulator-2.14.0-build/lib/python2.7/site-packages/nest/__init__.pyc\u001b[0m in \u001b[0;36mcatching_sli_run\u001b[0;34m(cmd)\u001b[0m\n\u001b[1;32m    115\u001b[0m         \u001b[0mengine\u001b[0m\u001b[0;34m.\u001b[0m\u001b[0mrun\u001b[0m\u001b[0;34m(\u001b[0m\u001b[0;34m'clear'\u001b[0m\u001b[0;34m)\u001b[0m\u001b[0;34m\u001b[0m\u001b[0m\n\u001b[1;32m    116\u001b[0m         \u001b[0merrorstring\u001b[0m \u001b[0;34m=\u001b[0m \u001b[0;34m'%s in %s%s'\u001b[0m \u001b[0;34m%\u001b[0m \u001b[0;34m(\u001b[0m\u001b[0merrorname\u001b[0m\u001b[0;34m,\u001b[0m \u001b[0mcommandname\u001b[0m\u001b[0;34m,\u001b[0m \u001b[0mmessage\u001b[0m\u001b[0;34m)\u001b[0m\u001b[0;34m\u001b[0m\u001b[0m\n\u001b[0;32m--> 117\u001b[0;31m         \u001b[0;32mraise\u001b[0m \u001b[0m_kernel\u001b[0m\u001b[0;34m.\u001b[0m\u001b[0mNESTError\u001b[0m\u001b[0;34m(\u001b[0m\u001b[0mencode\u001b[0m\u001b[0;34m(\u001b[0m\u001b[0merrorstring\u001b[0m\u001b[0;34m)\u001b[0m\u001b[0;34m)\u001b[0m\u001b[0;34m\u001b[0m\u001b[0m\n\u001b[0m\u001b[1;32m    118\u001b[0m \u001b[0;34m\u001b[0m\u001b[0m\n\u001b[1;32m    119\u001b[0m \u001b[0msli_run\u001b[0m \u001b[0;34m=\u001b[0m \u001b[0mhl_api\u001b[0m\u001b[0;34m.\u001b[0m\u001b[0msr\u001b[0m \u001b[0;34m=\u001b[0m \u001b[0mcatching_sli_run\u001b[0m\u001b[0;34m\u001b[0m\u001b[0m\n",
      "\u001b[0;31mNESTError\u001b[0m: TypeMismatch in CreateLayer_D: Expected datatype: doubletype\nProvided datatype: integertype"
     ]
    }
   ],
   "source": [
    "mc=[0]*n_hc\n",
    "for i in range (n_hc):            #create the minicolumns with pyramidal cells    #using range (0,n_top-1) is iqual to range(n_top-1)\n",
    "    mc[i]=topo.CreateLayer(layer_pyr[0])\n",
    "    "
   ]
  },
  {
   "cell_type": "code",
   "execution_count": 142,
   "metadata": {},
   "outputs": [
    {
     "ename": "NESTError",
     "evalue": "TypeMismatch in CreateLayer_D: Expected datatype: doubletype\nProvided datatype: integertype",
     "output_type": "error",
     "traceback": [
      "\u001b[0;31m---------------------------------------------------------------------------\u001b[0m",
      "\u001b[0;31mNESTError\u001b[0m                                 Traceback (most recent call last)",
      "\u001b[0;32m<ipython-input-142-163ee60610b8>\u001b[0m in \u001b[0;36m<module>\u001b[0;34m()\u001b[0m\n\u001b[1;32m      1\u001b[0m \u001b[0mhc\u001b[0m\u001b[0;34m=\u001b[0m\u001b[0;34m[\u001b[0m\u001b[0;36m0\u001b[0m\u001b[0;34m]\u001b[0m\u001b[0;34m*\u001b[0m\u001b[0mn_hc\u001b[0m                          \u001b[0;31m#number of hipercolumns\u001b[0m\u001b[0;34m\u001b[0m\u001b[0m\n\u001b[1;32m      2\u001b[0m \u001b[0;32mfor\u001b[0m \u001b[0mi\u001b[0m \u001b[0;32min\u001b[0m \u001b[0mrange\u001b[0m \u001b[0;34m(\u001b[0m\u001b[0mn_hc\u001b[0m\u001b[0;34m)\u001b[0m\u001b[0;34m:\u001b[0m             \u001b[0;31m#create the hypercolumns with basket cells\u001b[0m\u001b[0;34m\u001b[0m\u001b[0m\n\u001b[0;32m----> 3\u001b[0;31m     \u001b[0mhc\u001b[0m\u001b[0;34m[\u001b[0m\u001b[0mi\u001b[0m\u001b[0;34m]\u001b[0m\u001b[0;34m=\u001b[0m\u001b[0mtopo\u001b[0m\u001b[0;34m.\u001b[0m\u001b[0mCreateLayer\u001b[0m\u001b[0;34m(\u001b[0m\u001b[0mlayer_bc\u001b[0m\u001b[0;34m[\u001b[0m\u001b[0mi\u001b[0m\u001b[0;34m]\u001b[0m\u001b[0;34m)\u001b[0m\u001b[0;34m\u001b[0m\u001b[0m\n\u001b[0m",
      "\u001b[0;32m/home/debastiani/lascon/nest-simulator-2.14.0-build/lib/python2.7/site-packages/nest/topology/hl_api.pyc\u001b[0m in \u001b[0;36mCreateLayer\u001b[0;34m(specs)\u001b[0m\n\u001b[1;32m    652\u001b[0m             \u001b[0mhlh\u001b[0m\u001b[0;34m.\u001b[0m\u001b[0mmodel_deprecation_warning\u001b[0m\u001b[0;34m(\u001b[0m\u001b[0melements\u001b[0m\u001b[0;34m)\u001b[0m\u001b[0;34m\u001b[0m\u001b[0m\n\u001b[1;32m    653\u001b[0m \u001b[0;34m\u001b[0m\u001b[0m\n\u001b[0;32m--> 654\u001b[0;31m     \u001b[0;32mreturn\u001b[0m \u001b[0mtopology_func\u001b[0m\u001b[0;34m(\u001b[0m\u001b[0;34m'{ CreateLayer } Map'\u001b[0m\u001b[0;34m,\u001b[0m \u001b[0mspecs\u001b[0m\u001b[0;34m)\u001b[0m\u001b[0;34m\u001b[0m\u001b[0m\n\u001b[0m\u001b[1;32m    655\u001b[0m \u001b[0;34m\u001b[0m\u001b[0m\n\u001b[1;32m    656\u001b[0m \u001b[0;34m\u001b[0m\u001b[0m\n",
      "\u001b[0;32m/home/debastiani/lascon/nest-simulator-2.14.0-build/lib/python2.7/site-packages/nest/topology/hl_api.pyc\u001b[0m in \u001b[0;36mtopology_func\u001b[0;34m(slifunc, *args)\u001b[0m\n\u001b[1;32m     96\u001b[0m     \"\"\"\n\u001b[1;32m     97\u001b[0m \u001b[0;34m\u001b[0m\u001b[0m\n\u001b[0;32m---> 98\u001b[0;31m     \u001b[0;32mreturn\u001b[0m \u001b[0mnest\u001b[0m\u001b[0;34m.\u001b[0m\u001b[0msli_func\u001b[0m\u001b[0;34m(\u001b[0m\u001b[0mslifunc\u001b[0m\u001b[0;34m,\u001b[0m \u001b[0;34m*\u001b[0m\u001b[0margs\u001b[0m\u001b[0;34m)\u001b[0m\u001b[0;34m\u001b[0m\u001b[0m\n\u001b[0m\u001b[1;32m     99\u001b[0m \u001b[0;34m\u001b[0m\u001b[0m\n\u001b[1;32m    100\u001b[0m \u001b[0;34m\u001b[0m\u001b[0m\n",
      "\u001b[0;32m/home/debastiani/lascon/nest-simulator-2.14.0-build/lib/python2.7/site-packages/nest/__init__.pyc\u001b[0m in \u001b[0;36msli_func\u001b[0;34m(s, *args, **kwargs)\u001b[0m\n\u001b[1;32m    165\u001b[0m     \u001b[0msli_push\u001b[0m\u001b[0;34m(\u001b[0m\u001b[0margs\u001b[0m\u001b[0;34m)\u001b[0m       \u001b[0;31m# push array of arguments on SLI stack\u001b[0m\u001b[0;34m\u001b[0m\u001b[0m\n\u001b[1;32m    166\u001b[0m     \u001b[0msli_push\u001b[0m\u001b[0;34m(\u001b[0m\u001b[0ms\u001b[0m\u001b[0;34m)\u001b[0m          \u001b[0;31m# push command string\u001b[0m\u001b[0;34m\u001b[0m\u001b[0m\n\u001b[0;32m--> 167\u001b[0;31m     \u001b[0msli_run\u001b[0m\u001b[0;34m(\u001b[0m\u001b[0mslifun\u001b[0m\u001b[0;34m)\u001b[0m      \u001b[0;31m# SLI support code to execute s on args\u001b[0m\u001b[0;34m\u001b[0m\u001b[0m\n\u001b[0m\u001b[1;32m    168\u001b[0m     \u001b[0mr\u001b[0m \u001b[0;34m=\u001b[0m \u001b[0msli_pop\u001b[0m\u001b[0;34m(\u001b[0m\u001b[0;34m)\u001b[0m        \u001b[0;31m# return value is an array\u001b[0m\u001b[0;34m\u001b[0m\u001b[0m\n\u001b[1;32m    169\u001b[0m \u001b[0;34m\u001b[0m\u001b[0m\n",
      "\u001b[0;32m/home/debastiani/lascon/nest-simulator-2.14.0-build/lib/python2.7/site-packages/nest/__init__.pyc\u001b[0m in \u001b[0;36mcatching_sli_run\u001b[0;34m(cmd)\u001b[0m\n\u001b[1;32m    115\u001b[0m         \u001b[0mengine\u001b[0m\u001b[0;34m.\u001b[0m\u001b[0mrun\u001b[0m\u001b[0;34m(\u001b[0m\u001b[0;34m'clear'\u001b[0m\u001b[0;34m)\u001b[0m\u001b[0;34m\u001b[0m\u001b[0m\n\u001b[1;32m    116\u001b[0m         \u001b[0merrorstring\u001b[0m \u001b[0;34m=\u001b[0m \u001b[0;34m'%s in %s%s'\u001b[0m \u001b[0;34m%\u001b[0m \u001b[0;34m(\u001b[0m\u001b[0merrorname\u001b[0m\u001b[0;34m,\u001b[0m \u001b[0mcommandname\u001b[0m\u001b[0;34m,\u001b[0m \u001b[0mmessage\u001b[0m\u001b[0;34m)\u001b[0m\u001b[0;34m\u001b[0m\u001b[0m\n\u001b[0;32m--> 117\u001b[0;31m         \u001b[0;32mraise\u001b[0m \u001b[0m_kernel\u001b[0m\u001b[0;34m.\u001b[0m\u001b[0mNESTError\u001b[0m\u001b[0;34m(\u001b[0m\u001b[0mencode\u001b[0m\u001b[0;34m(\u001b[0m\u001b[0merrorstring\u001b[0m\u001b[0;34m)\u001b[0m\u001b[0;34m)\u001b[0m\u001b[0;34m\u001b[0m\u001b[0m\n\u001b[0m\u001b[1;32m    118\u001b[0m \u001b[0;34m\u001b[0m\u001b[0m\n\u001b[1;32m    119\u001b[0m \u001b[0msli_run\u001b[0m \u001b[0;34m=\u001b[0m \u001b[0mhl_api\u001b[0m\u001b[0;34m.\u001b[0m\u001b[0msr\u001b[0m \u001b[0;34m=\u001b[0m \u001b[0mcatching_sli_run\u001b[0m\u001b[0;34m\u001b[0m\u001b[0m\n",
      "\u001b[0;31mNESTError\u001b[0m: TypeMismatch in CreateLayer_D: Expected datatype: doubletype\nProvided datatype: integertype"
     ]
    }
   ],
   "source": [
    "hc=[0]*n_hc                          #number of hipercolumns\n",
    "for i in range (n_hc):             #create the hypercolumns with basket cells\n",
    "    hc[i]=topo.CreateLayer(layer_bc[i])"
   ]
  },
  {
   "cell_type": "code",
   "execution_count": 157,
   "metadata": {
    "collapsed": true
   },
   "outputs": [],
   "source": [
    "ext = 2. # here we use a square layer of size (ext x ext)\n",
    "n_pyr=30  #pyramidal neurons in each minicolumn\n",
    "n_bc=24 #basket cells in each hypercolumn\n",
    "\n",
    "#position of each pyramidal neuron\n",
    "pos1 = [[np.random.uniform(-ext/2,ext/2), np.random.uniform(-ext/2,ext/2)] for j in range(n_pyr)]\n",
    "\n",
    "#position of each basket cell\n",
    "pos2 = [[np.random.uniform(-ext/2,ext/2), np.random.uniform(-ext/2,ext/2)] for j in range(n_bc)]\n",
    "\n",
    "layer_pyr = {\n",
    "    'extent': [ext, ext],\n",
    "    'positions': pos1,\n",
    "    #'elements': 'iaf_neuron'\n",
    "    'elements': 'aeif_cond_alpha'  #adaptative exponential integrate and firing as neuron model\n",
    "}\n",
    "\n",
    "layer_bc = {\n",
    "    'extent': [ext, ext],\n",
    "    'positions': pos2,\n",
    "    #'elements': 'iaf_neuron'\n",
    "    'elements': 'aeif_cond_alpha'  #adaptative exponential integrate and firing as neuron model\n",
    "}"
   ]
  },
  {
   "cell_type": "code",
   "execution_count": 158,
   "metadata": {},
   "outputs": [],
   "source": [
    "n_top=192                            #number of minicolumns (12 in each of the 16 hipercolumns)\n",
    "n_hc=16                              #number of hypercolumns\n",
    "\n",
    "mc=[0]*n_top\n",
    "for i in range (n_top-1):            #create the minicolumns with pyramidal cells    #using range (0,n_top-1) is iqual to range(n_top-1)\n",
    "    mc[i]=topo.CreateLayer(layer_pyr)\n",
    "    \n",
    "hc=[0]*n_hc                          #number of hipercolumns\n",
    "for i in range (n_hc-1):             #create the hypercolumns with basket cells\n",
    "    hc[i]=topo.CreateLayer(layer_bc)"
   ]
  },
  {
   "cell_type": "code",
   "execution_count": 27,
   "metadata": {
    "collapsed": true,
    "scrolled": true
   },
   "outputs": [],
   "source": [
    "conn_pb = 0.7  #probability of connecting between pyramidal cell and basket cell \n",
    "conn_bp = 0.7  #probability of connecting between basket cell and pyramidal cell\n",
    "conn_pp = 0.2  #probability of connecting between pyramidal cell and pyramidal cell \n",
    "\n",
    "conn_pb = {\n",
    "    'connection_type': 'divergent',\n",
    "    'mask': {'rectangular': {'lower_left': [-1., -1.], 'upper_right': [1.,1.]},\n",
    "             'anchor': [0.0, 0.0]},\n",
    "    'kernel': conn_pb,\n",
    "    'allow_autapses': False\n",
    "}\n",
    "\n",
    "conn_bp = {\n",
    "    'connection_type': 'divergent',\n",
    "    'mask': {'rectangular': {'lower_left': [-1., -1.], 'upper_right': [1.,1.]},\n",
    "             'anchor': [0.0, 0.0]},\n",
    "    'kernel': conn_bp,\n",
    "    'allow_autapses': False\n",
    "}\n",
    "\n",
    "conn_pp = {\n",
    "    'connection_type': 'divergent',\n",
    "    'mask': {'rectangular': {'lower_left': [-1., -1.], 'upper_right': [1.,1.]},\n",
    "             'anchor': [0.0, 0.0]},\n",
    "    'kernel': conn_pp,\n",
    "    'allow_autapses': False\n",
    "}\n",
    "\n",
    "\n",
    "\n",
    "# rectangular mask, constant kernel, non-centered anchor\n",
    "#conn2 = {\n",
    "#    'connection_type': 'divergent',\n",
    "#    'mask': {'rectangular': {'lower_left': [-1., -1.], 'upper_right': [1.,1.]},\n",
    "#             'anchor': [0.0, 0.0]\n",
    "#             },\n",
    "#    'kernel': 0.75,\n",
    "#    'allow_autapses': False\n",
    "#}\n",
    "\n",
    "# rectangular mask, constant kernel, non-centered anchor\n",
    "#conn2 = {\n",
    "#    'connection_type': 'divergent',\n",
    "#    'mask': {'rectangular': {'lower_left': [-1., -1.], 'upper_right': [1.,1.]},\n",
    "#             'anchor': [0.0, 0.0]},\n",
    "#    'kernel': {'uniform': {'min':0.,'max':1.}},\n",
    "#    'allow_autapses': False\n",
    "#}\n",
    "\n",
    "\n",
    "#\n",
    "#\n",
    "#\n",
    "#EVERYTHING RIGHT UNTIL HERE!\n",
    "#\n",
    "#\n",
    "#"
   ]
  },
  {
   "cell_type": "code",
   "execution_count": 29,
   "metadata": {
    "collapsed": true
   },
   "outputs": [],
   "source": [
    "#connect each HC with 12 MC\n",
    "\n",
    "for i in range(n_hc-1):\n",
    "    for j in range (n_top-1):\n",
    "        if (i+j)%(n_hc)==0:\n",
    "            topo.ConnectLayers(hc[i], mc[j], conn_bp)\n",
    "            \n",
    "#connect each MC with all MC:            \n",
    "\n",
    "for i in range(n_top-1):\n",
    "    for j in range (i):\n",
    "        if i!=j:\n",
    "            topo.ConnectLayers(mc[i], mc[j], conn_pp)\n",
    "            \n",
    "\n",
    "##I couldn't test this part yet, but I think it's ok."
   ]
  },
  {
   "cell_type": "code",
   "execution_count": null,
   "metadata": {
    "collapsed": true
   },
   "outputs": [],
   "source": []
  },
  {
   "cell_type": "code",
   "execution_count": null,
   "metadata": {
    "collapsed": true
   },
   "outputs": [],
   "source": []
  },
  {
   "cell_type": "code",
   "execution_count": null,
   "metadata": {
    "collapsed": true
   },
   "outputs": [],
   "source": []
  },
  {
   "cell_type": "code",
   "execution_count": null,
   "metadata": {
    "collapsed": true
   },
   "outputs": [],
   "source": []
  },
  {
   "cell_type": "code",
   "execution_count": 67,
   "metadata": {
    "collapsed": true
   },
   "outputs": [],
   "source": [
    "# make a copy of the poisson_generator model and specify the rate\n",
    "nest.CopyModel('poisson_generator', 'my_poisson_generator', {'rate': 200000.} )\n",
    "\n",
    "noise_layer_dict = {\n",
    "    'extent': [ext, ext],\n",
    "    'positions': [[0.0, 0.0]],\n",
    "    'elements': 'my_poisson_generator'\n",
    "}"
   ]
  },
  {
   "cell_type": "code",
   "execution_count": 68,
   "metadata": {
    "collapsed": true
   },
   "outputs": [],
   "source": [
    "noiselayer = topo.CreateLayer(noise_layer_dict)  "
   ]
  },
  {
   "cell_type": "code",
   "execution_count": 69,
   "metadata": {
    "collapsed": true
   },
   "outputs": [],
   "source": [
    "for j in range(0,n_top-1):  #connect layer to poisson generator\n",
    "    topo.ConnectLayers(noiselayer, mc[j], conn2)"
   ]
  },
  {
   "cell_type": "code",
   "execution_count": 70,
   "metadata": {},
   "outputs": [
    {
     "name": "stdout",
     "output_type": "stream",
     "text": [
      "(6298,)\n"
     ]
    },
    {
     "data": {
      "image/png": "[encoded data removed]",
      "text/plain": [
       "<matplotlib.figure.Figure at 0x7f26a510e610>"
      ]
     },
     "metadata": {},
     "output_type": "display_data"
    }
   ],
   "source": [
    "layer = mc[0]\n",
    "conn_dict = conn2\n",
    "\n",
    "fig = topo.PlotLayer(layer)\n",
    "ctr = topo.FindCenterElement(noiselayer) # extract GID of poisson generator\n",
    "topo.PlotTargets(ctr, layer, fig=fig, mask=conn_dict['mask'], mask_color='green',\n",
    "                 src_size=250, src_color='red',\n",
    "                 tgt_size=20, tgt_color='red')\n",
    "   \n",
    "# beautify\n",
    "pylab.axes().set_xticks(pylab.arange(-ext/2., ext/2.+0.5, 0.5))\n",
    "pylab.axes().set_yticks(pylab.arange(-ext/2., ext/2.+0.5, 0.5))\n",
    "pylab.grid(True)\n",
    "print(ctr)"
   ]
  },
  {
   "cell_type": "code",
   "execution_count": null,
   "metadata": {
    "collapsed": true
   },
   "outputs": [],
   "source": []
  },
  {
   "cell_type": "code",
   "execution_count": null,
   "metadata": {
    "collapsed": true
   },
   "outputs": [],
   "source": []
  },
  {
   "cell_type": "code",
   "execution_count": null,
   "metadata": {
    "collapsed": true
   },
   "outputs": [],
   "source": []
  },
  {
   "cell_type": "code",
   "execution_count": null,
   "metadata": {
    "collapsed": true
   },
   "outputs": [],
   "source": []
  },
  {
   "cell_type": "code",
   "execution_count": null,
   "metadata": {
    "collapsed": true
   },
   "outputs": [],
   "source": []
  },
  {
   "cell_type": "code",
   "execution_count": null,
   "metadata": {
    "collapsed": true
   },
   "outputs": [],
   "source": []
  },
  {
   "cell_type": "code",
   "execution_count": null,
   "metadata": {
    "collapsed": true
   },
   "outputs": [],
   "source": []
  },
  {
   "cell_type": "code",
   "execution_count": null,
   "metadata": {
    "collapsed": true
   },
   "outputs": [],
   "source": []
  },
  {
   "cell_type": "code",
   "execution_count": null,
   "metadata": {
    "collapsed": true
   },
   "outputs": [],
   "source": []
  }
 ],
 "metadata": {
  "kernelspec": {
   "display_name": "Python 2",
   "language": "python",
   "name": "python2"
  },
  "language_info": {
   "codemirror_mode": {
    "name": "ipython",
    "version": 2
   },
   "file_extension": ".py",
   "mimetype": "text/x-python",
   "name": "python",
   "nbconvert_exporter": "python",
   "pygments_lexer": "ipython2",
   "version": "2.7.14"
  }
 },
 "nbformat": 4,
 "nbformat_minor": 2
}
