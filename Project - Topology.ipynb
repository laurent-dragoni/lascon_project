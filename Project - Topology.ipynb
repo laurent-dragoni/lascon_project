{
 "cells": [
  {
   "cell_type": "code",
   "execution_count": 1,
   "metadata": {},
   "outputs": [
    {
     "name": "stdout",
     "output_type": "stream",
     "text": [
      "Populating the interactive namespace from numpy and matplotlib\n"
     ]
    }
   ],
   "source": [
    "%pylab inline"
   ]
  },
  {
   "cell_type": "code",
   "execution_count": 2,
   "metadata": {
    "collapsed": true
   },
   "outputs": [],
   "source": [
    "import nest\n",
    "import nest.topology as topo # import topology as a submodule of nest\n",
    "import nest.raster_plot\n",
    "import numpy as np"
   ]
  },
  {
   "cell_type": "code",
   "execution_count": 22,
   "metadata": {
    "collapsed": true
   },
   "outputs": [],
   "source": [
    "nest.ResetKernel()"
   ]
  },
  {
   "cell_type": "code",
   "execution_count": 23,
   "metadata": {
    "collapsed": true
   },
   "outputs": [],
   "source": [
    "'''extension of the grid'''\n",
    "\n",
    "#ext = 2. # here we use a square layer of size (ext x ext)\n",
    "ext_hc = 640. # 640 micrometers of diameter in each HC\n",
    "ext_mc_l = ext_hc/4. # 160 micrometers of lenght in each MC\n",
    "ext_mc_w = ext_hc/3. # 160 micrometers of width in each MC\n",
    "\n",
    "'''number of neurons and layers'''\n",
    "\n",
    "n_pyr=30                             #pyramidal neurons in each minicolumn\n",
    "n_bc=24                              #basket cells in each hypercolumn\n",
    "n_top=192                            #number of minicolumns (12 in each of the 16 hypercolumns)\n",
    "n_hc=16                              #number of hypercolumns\n",
    "\n",
    "''''''\n",
    "\n",
    "n=-1\n",
    "m=0\n",
    "p1=[0]*(n_top/n_hc)\n",
    "p2=[0]*n_hc\n",
    "pos1=[0]*(n_top*n_pyr)\n",
    "\n",
    "#position of the center of each pyramidal neuron layer\n",
    "\n",
    "for i in range (n_hc):\n",
    "    if (i%4==0):\n",
    "        n=n+1\n",
    "    for j in range (3):\n",
    "        p1[j]=(j+0.5)*ext_mc_w+n*ext_hc\n",
    "        for k in range (4):\n",
    "            p2[k]=(k+0.5)*ext_mc_l+(i%4)*ext_hc\n",
    "            for l in range (n_pyr):\n",
    "                pos1[m] = [p1[j]+np.random.uniform(-ext_mc_w/2.,ext_mc_w/2.), p2[k]+np.random.uniform(-ext_mc_l/2.,ext_mc_l/2.)]\n",
    "                m=m+1\n",
    "                \n"
   ]
  },
  {
   "cell_type": "code",
   "execution_count": 24,
   "metadata": {
    "collapsed": true
   },
   "outputs": [],
   "source": [
    "#for i in range(4320,4680):\n",
    "#    print pos1[i]"
   ]
  },
  {
   "cell_type": "code",
   "execution_count": null,
   "metadata": {
    "collapsed": true
   },
   "outputs": [],
   "source": []
  },
  {
   "cell_type": "code",
   "execution_count": 25,
   "metadata": {
    "collapsed": true
   },
   "outputs": [],
   "source": [
    "'''position of all the basket cells in the model'''\n",
    "\n",
    "n=-1\n",
    "k=0\n",
    "l=0\n",
    "p3=[0]*(n_hc/4)\n",
    "p4=[0]*(n_hc/4)\n",
    "pos2=[0]*(n_hc*n_bc)\n",
    "\n",
    "#position of each basket cell: pos2\n",
    "\n",
    "for i in range (4):\n",
    "    if (i%4==0):\n",
    "        n=n+1\n",
    "    p3[i]=(i+0.5)*ext_hc\n",
    "    for j in range (4):\n",
    "        p4[j]=(j+0.5)*ext_hc\n",
    "        for l in range (n_bc):    \n",
    "            pos2[k] = [p3[i]+np.random.uniform(-ext_hc/2.,ext_hc/2.), p4[j]+np.random.uniform(-ext_hc/2.,ext_hc/2.)]\n",
    "            k=k+1\n"
   ]
  },
  {
   "cell_type": "code",
   "execution_count": 26,
   "metadata": {
    "collapsed": true
   },
   "outputs": [],
   "source": [
    "#for i in range (96,120):\n",
    "#    print pos2[i]"
   ]
  },
  {
   "cell_type": "code",
   "execution_count": 27,
   "metadata": {
    "collapsed": true
   },
   "outputs": [],
   "source": [
    "hc_pyr=[0]*(n_hc)\n",
    "hc_bc=[0]*(n_hc)\n",
    "mc=[0]*n_top\n",
    "\n",
    "'''dividing the pyramical neurons in groups of 360 neurons (the number in each HC)'''\n",
    "for i in range (n_hc):\n",
    "    hc_pyr[i]= [pos1[j] for j in range (i*n_pyr*n_top/n_hc,(i+1)*n_pyr*n_top/n_hc)]\n",
    "\n",
    "    \n",
    "'''dividing the basket cells in groups of 24 neurons'''\n",
    "for i in range (n_hc):\n",
    "    hc_bc[i]= [pos2[j] for j in range (i*n_bc,(i+1)*n_bc)]\n",
    "    \n"
   ]
  },
  {
   "cell_type": "code",
   "execution_count": null,
   "metadata": {
    "collapsed": true
   },
   "outputs": [],
   "source": []
  },
  {
   "cell_type": "code",
   "execution_count": 28,
   "metadata": {
    "collapsed": true
   },
   "outputs": [],
   "source": [
    "#print hc_pyr[1]\n",
    "#print hc_bc[3]"
   ]
  },
  {
   "cell_type": "code",
   "execution_count": 29,
   "metadata": {
    "collapsed": true
   },
   "outputs": [],
   "source": [
    "layer_pyr = [0]*n_hc\n",
    "for i in range(n_hc):\n",
    "    layer_pyr[i] = {\n",
    "        'extent': [10*4.*ext_hc, 10*4.*ext_hc],\n",
    "        'positions': hc_pyr[i],\n",
    "        #'elements': 'iaf_neuron'\n",
    "        'elements': 'aeif_cond_alpha'  #adaptative exponential integrate and firing as neuron model\n",
    "    }\n",
    "\n",
    "layer_bc = [0]*n_hc\n",
    "for i in range (n_hc):\n",
    "    layer_bc[i] = {\n",
    "        'extent': [10*4.*ext_hc, 10*4.*ext_hc],#without the 10 there is a error saying \"node position outside of layer\n",
    "        'positions': hc_bc[i],\n",
    "        #'elements': 'iaf_neuron'\n",
    "        'elements': 'aeif_cond_alpha'  #adaptative exponential integrate and firing as neuron model\n",
    "    }\n",
    "#print layer_bc[5]"
   ]
  },
  {
   "cell_type": "code",
   "execution_count": 30,
   "metadata": {
    "collapsed": true
   },
   "outputs": [],
   "source": [
    "#type(layer_bc[3])"
   ]
  },
  {
   "cell_type": "code",
   "execution_count": 31,
   "metadata": {
    "collapsed": true
   },
   "outputs": [],
   "source": [
    "mc=[0]*n_hc\n",
    "hc=[0]*n_hc\n",
    "for i in range (n_hc):\n",
    "    mc[i]=(topo.CreateLayer(layer_pyr[i]))  #creating the layer with 360 Pyr\n",
    "    hc[i]=(topo.CreateLayer(layer_bc[i]))  #creating the layer with 24 bc\n"
   ]
  },
  {
   "cell_type": "code",
   "execution_count": 32,
   "metadata": {
    "collapsed": true
   },
   "outputs": [],
   "source": [
    "#type(mc[0])"
   ]
  },
  {
   "cell_type": "code",
   "execution_count": 33,
   "metadata": {
    "collapsed": true
   },
   "outputs": [],
   "source": [
    "#print mc"
   ]
  },
  {
   "cell_type": "code",
   "execution_count": 34,
   "metadata": {
    "collapsed": true
   },
   "outputs": [],
   "source": [
    "conn_pb = 0.7  #probability of connecting between pyramidal cell and basket cell \n",
    "conn_bp = 0.7  #probability of connecting between basket cell and pyramidal cell\n",
    "conn_pp = 0.2  #probability of connecting between pyramidal cell and pyramidal cell \n",
    "\n",
    "conn_pb = {\n",
    "    'connection_type': 'divergent',\n",
    "    'mask': {'rectangular': {'lower_left': [-0., -0.], 'upper_right': [2560.,2560.]},\n",
    "             'anchor': [1280.0, 1280.0]},\n",
    "    'kernel': conn_pb,\n",
    "    'allow_autapses': False\n",
    "}\n",
    "\n",
    "conn_bp = {\n",
    "    'connection_type': 'divergent',\n",
    "    'mask': {'rectangular': {'lower_left': [-0., -0.], 'upper_right': [2560.,2560.]},\n",
    "             'anchor': [1280.0, 1280.0]},\n",
    "    'kernel': conn_bp,\n",
    "    'allow_autapses': False\n",
    "}\n",
    "\n",
    "conn_pp = {\n",
    "    'connection_type': 'divergent',\n",
    "    'mask': {'rectangular': {'lower_left': [-0., -0.], 'upper_right': [2560.,2560.]},\n",
    "             'anchor': [1280.0, 1280.0]},\n",
    "    'kernel': conn_pp,\n",
    "    'allow_autapses': False\n",
    "}\n",
    "\n"
   ]
  },
  {
   "cell_type": "code",
   "execution_count": 35,
   "metadata": {
    "collapsed": true
   },
   "outputs": [],
   "source": [
    "#type(hc[0])"
   ]
  },
  {
   "cell_type": "code",
   "execution_count": 36,
   "metadata": {
    "collapsed": true
   },
   "outputs": [],
   "source": [
    "#connect each HC with 12 MC and vice-versa\n",
    "\n",
    "for i in range(n_hc):\n",
    "    for j in range (n_hc):\n",
    "        if (i==j):\n",
    "            topo.ConnectLayers(hc[i], mc[j], conn_bp)\n",
    "            topo.ConnectLayers(mc[i], hc[j], conn_pb)"
   ]
  },
  {
   "cell_type": "code",
   "execution_count": 37,
   "metadata": {
    "collapsed": true
   },
   "outputs": [],
   "source": [
    "#connect each MC with all MC:            \n",
    "\n",
    "for i in range(n_hc):\n",
    "    for j in range (i):\n",
    "        topo.ConnectLayers(mc[i], mc[j], conn_pp)"
   ]
  },
  {
   "cell_type": "code",
   "execution_count": null,
   "metadata": {
    "collapsed": true
   },
   "outputs": [],
   "source": [
    "#################\n",
    "\n",
    "'''\n",
    "I guess I fixed everything until here, but I still can't plot the layers to see if it's all right. I will take\n",
    "a break and will finish it in the afternoon.\n",
    "'''\n",
    "\n",
    "#################"
   ]
  },
  {
   "cell_type": "code",
   "execution_count": null,
   "metadata": {
    "collapsed": true
   },
   "outputs": [],
   "source": []
  },
  {
   "cell_type": "code",
   "execution_count": null,
   "metadata": {
    "collapsed": true
   },
   "outputs": [],
   "source": []
  },
  {
   "cell_type": "code",
   "execution_count": 38,
   "metadata": {},
   "outputs": [],
   "source": [
    "# make a copy of the poisson_generator model and specify the rate\n",
    "nest.CopyModel('poisson_generator', 'my_poisson_generator', {'rate': 200000.} )\n",
    "ext=2.\n",
    "noise_layer_dict = {\n",
    "    'extent': [ext_hc, ext_hc],\n",
    "    'positions': [[0.0, 0.0]],\n",
    "    'elements': 'my_poisson_generator'\n",
    "}\n",
    "\n",
    "noiselayer = (topo.CreateLayer(noise_layer_dict))\n",
    "\n",
    "for j in range(n_hc):  #connect layer to poisson generator\n",
    "    topo.ConnectLayers(noiselayer, mc[j], conn_pp)"
   ]
  },
  {
   "cell_type": "code",
   "execution_count": null,
   "metadata": {
    "collapsed": true
   },
   "outputs": [],
   "source": []
  },
  {
   "cell_type": "code",
   "execution_count": null,
   "metadata": {
    "collapsed": true
   },
   "outputs": [],
   "source": []
  },
  {
   "cell_type": "code",
   "execution_count": null,
   "metadata": {
    "collapsed": true
   },
   "outputs": [],
   "source": []
  },
  {
   "cell_type": "code",
   "execution_count": null,
   "metadata": {
    "collapsed": true
   },
   "outputs": [],
   "source": []
  },
  {
   "cell_type": "code",
   "execution_count": 40,
   "metadata": {},
   "outputs": [
    {
     "ename": "ValueError",
     "evalue": "need more than 0 values to unpack",
     "output_type": "error",
     "traceback": [
      "\u001b[0;31m---------------------------------------------------------------------------\u001b[0m",
      "\u001b[0;31mValueError\u001b[0m                                Traceback (most recent call last)",
      "\u001b[0;32m<ipython-input-40-b753bb07ab65>\u001b[0m in \u001b[0;36m<module>\u001b[0;34m()\u001b[0m\n\u001b[1;32m      6\u001b[0m topo.PlotTargets(ctr, layer, fig=fig, mask=conn_dict['mask'], mask_color='green',\n\u001b[1;32m      7\u001b[0m                  \u001b[0msrc_size\u001b[0m\u001b[0;34m=\u001b[0m\u001b[0;36m2\u001b[0m\u001b[0;34m,\u001b[0m \u001b[0msrc_color\u001b[0m\u001b[0;34m=\u001b[0m\u001b[0;34m'red'\u001b[0m\u001b[0;34m,\u001b[0m\u001b[0;34m\u001b[0m\u001b[0m\n\u001b[0;32m----> 8\u001b[0;31m                  tgt_size=2, tgt_color='red')\n\u001b[0m\u001b[1;32m      9\u001b[0m \u001b[0;34m\u001b[0m\u001b[0m\n\u001b[1;32m     10\u001b[0m \u001b[0;31m# beautify\u001b[0m\u001b[0;34m\u001b[0m\u001b[0;34m\u001b[0m\u001b[0m\n",
      "\u001b[0;32m/home/debastiani/lascon/nest-simulator-2.14.0-build/lib/python2.7/site-packages/nest/topology/hl_api.pyc\u001b[0m in \u001b[0;36mPlotTargets\u001b[0;34m(src_nrn, tgt_layer, tgt_model, syn_type, fig, mask, kernel, src_color, src_size, tgt_color, tgt_size, mask_color, kernel_color)\u001b[0m\n\u001b[1;32m   1958\u001b[0m         \u001b[0mtgtpos\u001b[0m \u001b[0;34m=\u001b[0m \u001b[0mGetTargetPositions\u001b[0m\u001b[0;34m(\u001b[0m\u001b[0msrc_nrn\u001b[0m\u001b[0;34m,\u001b[0m \u001b[0mtgt_layer\u001b[0m\u001b[0;34m,\u001b[0m \u001b[0mtgt_model\u001b[0m\u001b[0;34m,\u001b[0m \u001b[0msyn_type\u001b[0m\u001b[0;34m)\u001b[0m\u001b[0;34m\u001b[0m\u001b[0m\n\u001b[1;32m   1959\u001b[0m         \u001b[0;32mif\u001b[0m \u001b[0mtgtpos\u001b[0m\u001b[0;34m:\u001b[0m\u001b[0;34m\u001b[0m\u001b[0m\n\u001b[0;32m-> 1960\u001b[0;31m             \u001b[0mxpos\u001b[0m\u001b[0;34m,\u001b[0m \u001b[0mypos\u001b[0m \u001b[0;34m=\u001b[0m \u001b[0mzip\u001b[0m\u001b[0;34m(\u001b[0m\u001b[0;34m*\u001b[0m\u001b[0mtgtpos\u001b[0m\u001b[0;34m[\u001b[0m\u001b[0;36m0\u001b[0m\u001b[0;34m]\u001b[0m\u001b[0;34m)\u001b[0m\u001b[0;34m\u001b[0m\u001b[0m\n\u001b[0m\u001b[1;32m   1961\u001b[0m             ax.scatter(xpos, ypos, s=tgt_size, facecolor=tgt_color,\n\u001b[1;32m   1962\u001b[0m                        edgecolor='none')\n",
      "\u001b[0;31mValueError\u001b[0m: need more than 0 values to unpack"
     ]
    },
    {
     "data": {
      "image/png": "[encoded data removed]",
      "text/plain": [
       "<matplotlib.figure.Figure at 0x7fb958151cd0>"
      ]
     },
     "metadata": {},
     "output_type": "display_data"
    }
   ],
   "source": [
    "layer = mc[0]\n",
    "conn_dict = conn_pp\n",
    "\n",
    "fig = topo.PlotLayer(layer)\n",
    "ctr = topo.FindCenterElement(noiselayer) # extract GID of poisson generator\n",
    "topo.PlotTargets(ctr, layer, fig=fig, mask=conn_dict['mask'], mask_color='green',\n",
    "                 src_size=2, src_color='red',\n",
    "                 tgt_size=2, tgt_color='red')\n",
    "   \n",
    "# beautify\n",
    "#pylab.axes().set_xticks(pylab.arange(-ext_hc*4., ext_hc*4., 0.640))\n",
    "#pylab.axes().set_yticks(pylab.arange(-ext_hc*4., ext_hc*4., 0.640))\n",
    "pylab.grid(True)\n",
    "print(ctr)"
   ]
  },
  {
   "cell_type": "code",
   "execution_count": null,
   "metadata": {
    "collapsed": true
   },
   "outputs": [],
   "source": []
  },
  {
   "cell_type": "code",
   "execution_count": 496,
   "metadata": {
    "collapsed": true
   },
   "outputs": [],
   "source": [
    "################################################################\n",
    "######         TRYING TO FIX THE NEXT STEPS        #############\n",
    "################################################################"
   ]
  },
  {
   "cell_type": "code",
   "execution_count": null,
   "metadata": {
    "collapsed": true
   },
   "outputs": [],
   "source": []
  },
  {
   "cell_type": "code",
   "execution_count": null,
   "metadata": {
    "collapsed": true
   },
   "outputs": [],
   "source": []
  },
  {
   "cell_type": "code",
   "execution_count": null,
   "metadata": {
    "collapsed": true
   },
   "outputs": [],
   "source": []
  },
  {
   "cell_type": "code",
   "execution_count": 377,
   "metadata": {
    "collapsed": true
   },
   "outputs": [],
   "source": [
    "ext = 2. # here we use a square layer of size (ext x ext)\n",
    "n_pyr=30  #pyramidal neurons in each minicolumn\n",
    "n_bc=24 #basket cells in each hypercolumn\n",
    "\n",
    "#position of each pyramidal neuron\n",
    "pos1 = [[np.random.uniform(-ext/2,ext/2), np.random.uniform(-ext/2,ext/2)] for j in range(n_pyr)]\n",
    "\n",
    "#position of each basket cell\n",
    "pos2 = [[np.random.uniform(-ext/2,ext/2), np.random.uniform(-ext/2,ext/2)] for j in range(n_bc)]\n",
    "\n",
    "layer_pyr = {\n",
    "    'extent': [ext, ext],\n",
    "    'positions': pos1,\n",
    "    #'elements': 'iaf_neuron'\n",
    "    'elements': 'aeif_cond_alpha'  #adaptative exponential integrate and firing as neuron model\n",
    "}\n",
    "\n",
    "layer_bc = {\n",
    "    'extent': [ext, ext],\n",
    "    'positions': pos2,\n",
    "    #'elements': 'iaf_neuron'\n",
    "    'elements': 'aeif_cond_alpha'  #adaptative exponential integrate and firing as neuron model\n",
    "}"
   ]
  },
  {
   "cell_type": "code",
   "execution_count": 378,
   "metadata": {
    "collapsed": true
   },
   "outputs": [],
   "source": [
    "n_top=192                            #number of minicolumns (12 in each of the 16 hipercolumns)\n",
    "n_hc=16                              #number of hypercolumns\n",
    "\n",
    "mc=[0]*n_top\n",
    "for i in range (n_top):            #create the minicolumns with pyramidal cells    #using range (0,n_top-1) is iqual to range(n_top-1)\n",
    "    mc[i]=topo.CreateLayer(layer_pyr)\n",
    "    \n",
    "hc=[0]*n_hc                          #number of hipercolumns\n",
    "for i in range (n_hc):             #create the hypercolumns with basket cells\n",
    "    hc[i]=topo.CreateLayer(layer_bc)"
   ]
  },
  {
   "cell_type": "code",
   "execution_count": 379,
   "metadata": {
    "collapsed": true,
    "scrolled": true
   },
   "outputs": [],
   "source": [
    "conn_pb = 0.7  #probability of connecting between pyramidal cell and basket cell \n",
    "conn_bp = 0.7  #probability of connecting between basket cell and pyramidal cell\n",
    "conn_pp = 0.2  #probability of connecting between pyramidal cell and pyramidal cell \n",
    "\n",
    "conn_pb = {\n",
    "    'connection_type': 'divergent',\n",
    "    'mask': {'rectangular': {'lower_left': [-1., -1.], 'upper_right': [1.,1.]},\n",
    "             'anchor': [0.0, 0.0]},\n",
    "    'kernel': conn_pb,\n",
    "    'allow_autapses': False\n",
    "}\n",
    "\n",
    "conn_bp = {\n",
    "    'connection_type': 'divergent',\n",
    "    'mask': {'rectangular': {'lower_left': [-1., -1.], 'upper_right': [1.,1.]},\n",
    "             'anchor': [0.0, 0.0]},\n",
    "    'kernel': conn_bp,\n",
    "    'allow_autapses': False\n",
    "}\n",
    "\n",
    "conn_pp = {\n",
    "    'connection_type': 'divergent',\n",
    "    'mask': {'rectangular': {'lower_left': [-1., -1.], 'upper_right': [1.,1.]},\n",
    "             'anchor': [0.0, 0.0]},\n",
    "    'kernel': conn_pp,\n",
    "    'allow_autapses': False\n",
    "}\n",
    "\n",
    "\n",
    "\n",
    "# rectangular mask, constant kernel, non-centered anchor\n",
    "#conn2 = {\n",
    "#    'connection_type': 'divergent',\n",
    "#    'mask': {'rectangular': {'lower_left': [-1., -1.], 'upper_right': [1.,1.]},\n",
    "#             'anchor': [0.0, 0.0]\n",
    "#             },\n",
    "#    'kernel': 0.75,\n",
    "#    'allow_autapses': False\n",
    "#}\n",
    "\n",
    "# rectangular mask, constant kernel, non-centered anchor\n",
    "#conn2 = {\n",
    "#    'connection_type': 'divergent',\n",
    "#    'mask': {'rectangular': {'lower_left': [-1., -1.], 'upper_right': [1.,1.]},\n",
    "#             'anchor': [0.0, 0.0]},\n",
    "#    'kernel': {'uniform': {'min':0.,'max':1.}},\n",
    "#    'allow_autapses': False\n",
    "#}\n",
    "\n",
    "\n",
    "#\n",
    "#\n",
    "#\n",
    "#EVERYTHING RIGHT UNTIL HERE!\n",
    "#\n",
    "#\n",
    "#"
   ]
  },
  {
   "cell_type": "code",
   "execution_count": 380,
   "metadata": {
    "collapsed": true
   },
   "outputs": [],
   "source": [
    "#connect each HC with 12 MC\n",
    "\n",
    "for i in range(n_hc-1):\n",
    "    for j in range (n_top-1):\n",
    "        if (i+j)%(n_hc)==0:\n",
    "            topo.ConnectLayers(hc[i], mc[j], conn_bp)\n",
    "            \n",
    "#connect each MC with all MC:            \n",
    "\n",
    "for i in range(n_top-1):\n",
    "    for j in range (i):\n",
    "        if i!=j:\n",
    "            topo.ConnectLayers(mc[i], mc[j], conn_pp)\n",
    "            \n",
    "\n",
    "##I couldn't test this part yet, but I think it's ok."
   ]
  },
  {
   "cell_type": "code",
   "execution_count": null,
   "metadata": {
    "collapsed": true
   },
   "outputs": [],
   "source": []
  },
  {
   "cell_type": "code",
   "execution_count": null,
   "metadata": {
    "collapsed": true
   },
   "outputs": [],
   "source": []
  },
  {
   "cell_type": "code",
   "execution_count": null,
   "metadata": {
    "collapsed": true
   },
   "outputs": [],
   "source": []
  },
  {
   "cell_type": "code",
   "execution_count": null,
   "metadata": {
    "collapsed": true
   },
   "outputs": [],
   "source": []
  },
  {
   "cell_type": "code",
   "execution_count": 19,
   "metadata": {},
   "outputs": [],
   "source": [
    "# make a copy of the poisson_generator model and specify the rate\n",
    "nest.CopyModel('poisson_generator', 'my_poisson_generator', {'rate': 200000.} )\n",
    "ext=2.\n",
    "noise_layer_dict = {\n",
    "    'extent': [ext_hc, ext_hc],\n",
    "    'positions': [[0.0, 0.0]],\n",
    "    'elements': 'my_poisson_generator'\n",
    "}\n",
    "\n",
    "noiselayer = (topo.CreateLayer(noise_layer_dict))\n",
    "\n",
    "for j in range(n_hc):  #connect layer to poisson generator\n",
    "    topo.ConnectLayers(noiselayer, mc[j], conn_pp)"
   ]
  },
  {
   "cell_type": "code",
   "execution_count": 382,
   "metadata": {
    "collapsed": true
   },
   "outputs": [],
   "source": [
    "noiselayer = (topo.CreateLayer(noise_layer_dict))"
   ]
  },
  {
   "cell_type": "code",
   "execution_count": 383,
   "metadata": {},
   "outputs": [
    {
     "data": {
      "text/plain": [
       "dict"
      ]
     },
     "execution_count": 383,
     "metadata": {},
     "output_type": "execute_result"
    }
   ],
   "source": [
    "type (noise_layer_dict)"
   ]
  },
  {
   "cell_type": "code",
   "execution_count": 384,
   "metadata": {},
   "outputs": [
    {
     "name": "stdout",
     "output_type": "stream",
     "text": [
      "(9963,)\n"
     ]
    }
   ],
   "source": [
    "print noiselayer"
   ]
  },
  {
   "cell_type": "code",
   "execution_count": 473,
   "metadata": {},
   "outputs": [
    {
     "ename": "NESTError",
     "evalue": "ArgumentType in ConnectLayers: The type of the first parameter did not match the argument(s) of this function.",
     "output_type": "error",
     "traceback": [
      "\u001b[0;31m---------------------------------------------------------------------------\u001b[0m",
      "\u001b[0;31mNESTError\u001b[0m                                 Traceback (most recent call last)",
      "\u001b[0;32m<ipython-input-473-e6ff4c775129>\u001b[0m in \u001b[0;36m<module>\u001b[0;34m()\u001b[0m\n\u001b[1;32m      1\u001b[0m \u001b[0;32mfor\u001b[0m \u001b[0mj\u001b[0m \u001b[0;32min\u001b[0m \u001b[0mrange\u001b[0m\u001b[0;34m(\u001b[0m\u001b[0;36m0\u001b[0m\u001b[0;34m,\u001b[0m\u001b[0mn_top\u001b[0m\u001b[0;34m-\u001b[0m\u001b[0;36m1\u001b[0m\u001b[0;34m)\u001b[0m\u001b[0;34m:\u001b[0m  \u001b[0;31m#connect layer to poisson generator\u001b[0m\u001b[0;34m\u001b[0m\u001b[0m\n\u001b[0;32m----> 2\u001b[0;31m     \u001b[0mtopo\u001b[0m\u001b[0;34m.\u001b[0m\u001b[0mConnectLayers\u001b[0m\u001b[0;34m(\u001b[0m\u001b[0mnoiselayer\u001b[0m\u001b[0;34m,\u001b[0m \u001b[0mmc\u001b[0m\u001b[0;34m[\u001b[0m\u001b[0mj\u001b[0m\u001b[0;34m]\u001b[0m\u001b[0;34m,\u001b[0m \u001b[0mconn_pp\u001b[0m\u001b[0;34m)\u001b[0m\u001b[0;34m\u001b[0m\u001b[0m\n\u001b[0m",
      "\u001b[0;32m/home/debastiani/lascon/nest-simulator-2.14.0-build/lib/python2.7/site-packages/nest/topology/hl_api.pyc\u001b[0m in \u001b[0;36mConnectLayers\u001b[0;34m(pre, post, projections)\u001b[0m\n\u001b[1;32m    832\u001b[0m \u001b[0;34m\u001b[0m\u001b[0m\n\u001b[1;32m    833\u001b[0m     topology_func('3 arraystore { ConnectLayers } ScanThread', pre, post,\n\u001b[0;32m--> 834\u001b[0;31m                   projections)\n\u001b[0m\u001b[1;32m    835\u001b[0m \u001b[0;34m\u001b[0m\u001b[0m\n\u001b[1;32m    836\u001b[0m \u001b[0;34m\u001b[0m\u001b[0m\n",
      "\u001b[0;32m/home/debastiani/lascon/nest-simulator-2.14.0-build/lib/python2.7/site-packages/nest/topology/hl_api.pyc\u001b[0m in \u001b[0;36mtopology_func\u001b[0;34m(slifunc, *args)\u001b[0m\n\u001b[1;32m     96\u001b[0m     \"\"\"\n\u001b[1;32m     97\u001b[0m \u001b[0;34m\u001b[0m\u001b[0m\n\u001b[0;32m---> 98\u001b[0;31m     \u001b[0;32mreturn\u001b[0m \u001b[0mnest\u001b[0m\u001b[0;34m.\u001b[0m\u001b[0msli_func\u001b[0m\u001b[0;34m(\u001b[0m\u001b[0mslifunc\u001b[0m\u001b[0;34m,\u001b[0m \u001b[0;34m*\u001b[0m\u001b[0margs\u001b[0m\u001b[0;34m)\u001b[0m\u001b[0;34m\u001b[0m\u001b[0m\n\u001b[0m\u001b[1;32m     99\u001b[0m \u001b[0;34m\u001b[0m\u001b[0m\n\u001b[1;32m    100\u001b[0m \u001b[0;34m\u001b[0m\u001b[0m\n",
      "\u001b[0;32m/home/debastiani/lascon/nest-simulator-2.14.0-build/lib/python2.7/site-packages/nest/__init__.pyc\u001b[0m in \u001b[0;36msli_func\u001b[0;34m(s, *args, **kwargs)\u001b[0m\n\u001b[1;32m    165\u001b[0m     \u001b[0msli_push\u001b[0m\u001b[0;34m(\u001b[0m\u001b[0margs\u001b[0m\u001b[0;34m)\u001b[0m       \u001b[0;31m# push array of arguments on SLI stack\u001b[0m\u001b[0;34m\u001b[0m\u001b[0m\n\u001b[1;32m    166\u001b[0m     \u001b[0msli_push\u001b[0m\u001b[0;34m(\u001b[0m\u001b[0ms\u001b[0m\u001b[0;34m)\u001b[0m          \u001b[0;31m# push command string\u001b[0m\u001b[0;34m\u001b[0m\u001b[0m\n\u001b[0;32m--> 167\u001b[0;31m     \u001b[0msli_run\u001b[0m\u001b[0;34m(\u001b[0m\u001b[0mslifun\u001b[0m\u001b[0;34m)\u001b[0m      \u001b[0;31m# SLI support code to execute s on args\u001b[0m\u001b[0;34m\u001b[0m\u001b[0m\n\u001b[0m\u001b[1;32m    168\u001b[0m     \u001b[0mr\u001b[0m \u001b[0;34m=\u001b[0m \u001b[0msli_pop\u001b[0m\u001b[0;34m(\u001b[0m\u001b[0;34m)\u001b[0m        \u001b[0;31m# return value is an array\u001b[0m\u001b[0;34m\u001b[0m\u001b[0m\n\u001b[1;32m    169\u001b[0m \u001b[0;34m\u001b[0m\u001b[0m\n",
      "\u001b[0;32m/home/debastiani/lascon/nest-simulator-2.14.0-build/lib/python2.7/site-packages/nest/__init__.pyc\u001b[0m in \u001b[0;36mcatching_sli_run\u001b[0;34m(cmd)\u001b[0m\n\u001b[1;32m    115\u001b[0m         \u001b[0mengine\u001b[0m\u001b[0;34m.\u001b[0m\u001b[0mrun\u001b[0m\u001b[0;34m(\u001b[0m\u001b[0;34m'clear'\u001b[0m\u001b[0;34m)\u001b[0m\u001b[0;34m\u001b[0m\u001b[0m\n\u001b[1;32m    116\u001b[0m         \u001b[0merrorstring\u001b[0m \u001b[0;34m=\u001b[0m \u001b[0;34m'%s in %s%s'\u001b[0m \u001b[0;34m%\u001b[0m \u001b[0;34m(\u001b[0m\u001b[0merrorname\u001b[0m\u001b[0;34m,\u001b[0m \u001b[0mcommandname\u001b[0m\u001b[0;34m,\u001b[0m \u001b[0mmessage\u001b[0m\u001b[0;34m)\u001b[0m\u001b[0;34m\u001b[0m\u001b[0m\n\u001b[0;32m--> 117\u001b[0;31m         \u001b[0;32mraise\u001b[0m \u001b[0m_kernel\u001b[0m\u001b[0;34m.\u001b[0m\u001b[0mNESTError\u001b[0m\u001b[0;34m(\u001b[0m\u001b[0mencode\u001b[0m\u001b[0;34m(\u001b[0m\u001b[0merrorstring\u001b[0m\u001b[0;34m)\u001b[0m\u001b[0;34m)\u001b[0m\u001b[0;34m\u001b[0m\u001b[0m\n\u001b[0m\u001b[1;32m    118\u001b[0m \u001b[0;34m\u001b[0m\u001b[0m\n\u001b[1;32m    119\u001b[0m \u001b[0msli_run\u001b[0m \u001b[0;34m=\u001b[0m \u001b[0mhl_api\u001b[0m\u001b[0;34m.\u001b[0m\u001b[0msr\u001b[0m \u001b[0;34m=\u001b[0m \u001b[0mcatching_sli_run\u001b[0m\u001b[0;34m\u001b[0m\u001b[0m\n",
      "\u001b[0;31mNESTError\u001b[0m: ArgumentType in ConnectLayers: The type of the first parameter did not match the argument(s) of this function."
     ]
    }
   ],
   "source": [
    "for j in range(0,n_top-1):  #connect layer to poisson generator\n",
    "    topo.ConnectLayers(noiselayer, mc[j], conn_pp)"
   ]
  },
  {
   "cell_type": "code",
   "execution_count": 491,
   "metadata": {
    "scrolled": true
   },
   "outputs": [
    {
     "ename": "NESTError",
     "evalue": "DictError in get_d: Key '/topology' does not exist in dictionary.",
     "output_type": "error",
     "traceback": [
      "\u001b[0;31m---------------------------------------------------------------------------\u001b[0m",
      "\u001b[0;31mNESTError\u001b[0m                                 Traceback (most recent call last)",
      "\u001b[0;32m<ipython-input-491-22dad6ac4e95>\u001b[0m in \u001b[0;36m<module>\u001b[0;34m()\u001b[0m\n\u001b[1;32m      3\u001b[0m \u001b[0;34m\u001b[0m\u001b[0m\n\u001b[1;32m      4\u001b[0m \u001b[0mfig\u001b[0m \u001b[0;34m=\u001b[0m \u001b[0mtopo\u001b[0m\u001b[0;34m.\u001b[0m\u001b[0mPlotLayer\u001b[0m\u001b[0;34m(\u001b[0m\u001b[0mlayer\u001b[0m\u001b[0;34m)\u001b[0m\u001b[0;34m\u001b[0m\u001b[0m\n\u001b[0;32m----> 5\u001b[0;31m \u001b[0mctr\u001b[0m \u001b[0;34m=\u001b[0m \u001b[0mtopo\u001b[0m\u001b[0;34m.\u001b[0m\u001b[0mFindCenterElement\u001b[0m\u001b[0;34m(\u001b[0m\u001b[0mnoiselayer\u001b[0m\u001b[0;34m)\u001b[0m \u001b[0;31m# extract GID of poisson generator\u001b[0m\u001b[0;34m\u001b[0m\u001b[0m\n\u001b[0m\u001b[1;32m      6\u001b[0m topo.PlotTargets(ctr, layer, fig=fig, mask=conn_dict['mask'], mask_color='green',\n\u001b[1;32m      7\u001b[0m                  \u001b[0msrc_size\u001b[0m\u001b[0;34m=\u001b[0m\u001b[0;36m250\u001b[0m\u001b[0;34m,\u001b[0m \u001b[0msrc_color\u001b[0m\u001b[0;34m=\u001b[0m\u001b[0;34m'red'\u001b[0m\u001b[0;34m,\u001b[0m\u001b[0;34m\u001b[0m\u001b[0m\n",
      "\u001b[0;32m/home/debastiani/lascon/nest-simulator-2.14.0-build/lib/python2.7/site-packages/nest/topology/hl_api.pyc\u001b[0m in \u001b[0;36mFindCenterElement\u001b[0;34m(layers)\u001b[0m\n\u001b[1;32m   1556\u001b[0m                                     nest.GetStatus((lyr, ), 'topology')[0][\n\u001b[1;32m   1557\u001b[0m                                         'center'])[0]\n\u001b[0;32m-> 1558\u001b[0;31m                  for lyr in layers)\n\u001b[0m\u001b[1;32m   1559\u001b[0m \u001b[0;34m\u001b[0m\u001b[0m\n\u001b[1;32m   1560\u001b[0m \u001b[0;34m\u001b[0m\u001b[0m\n",
      "\u001b[0;32m/home/debastiani/lascon/nest-simulator-2.14.0-build/lib/python2.7/site-packages/nest/topology/hl_api.pyc\u001b[0m in \u001b[0;36m<genexpr>\u001b[0;34m((lyr,))\u001b[0m\n\u001b[1;32m   1556\u001b[0m                                     nest.GetStatus((lyr, ), 'topology')[0][\n\u001b[1;32m   1557\u001b[0m                                         'center'])[0]\n\u001b[0;32m-> 1558\u001b[0;31m                  for lyr in layers)\n\u001b[0m\u001b[1;32m   1559\u001b[0m \u001b[0;34m\u001b[0m\u001b[0m\n\u001b[1;32m   1560\u001b[0m \u001b[0;34m\u001b[0m\u001b[0m\n",
      "\u001b[0;32m/home/debastiani/lascon/nest-simulator-2.14.0-build/lib/python2.7/site-packages/nest/lib/hl_api_helper.pyc\u001b[0m in \u001b[0;36mstack_checker_func\u001b[0;34m(*args, **kwargs)\u001b[0m\n\u001b[1;32m    229\u001b[0m     \u001b[0;32mdef\u001b[0m \u001b[0mstack_checker_func\u001b[0m\u001b[0;34m(\u001b[0m\u001b[0;34m*\u001b[0m\u001b[0margs\u001b[0m\u001b[0;34m,\u001b[0m \u001b[0;34m**\u001b[0m\u001b[0mkwargs\u001b[0m\u001b[0;34m)\u001b[0m\u001b[0;34m:\u001b[0m\u001b[0;34m\u001b[0m\u001b[0m\n\u001b[1;32m    230\u001b[0m         \u001b[0;32mif\u001b[0m \u001b[0;32mnot\u001b[0m \u001b[0mget_debug\u001b[0m\u001b[0;34m(\u001b[0m\u001b[0;34m)\u001b[0m\u001b[0;34m:\u001b[0m\u001b[0;34m\u001b[0m\u001b[0m\n\u001b[0;32m--> 231\u001b[0;31m             \u001b[0;32mreturn\u001b[0m \u001b[0mf\u001b[0m\u001b[0;34m(\u001b[0m\u001b[0;34m*\u001b[0m\u001b[0margs\u001b[0m\u001b[0;34m,\u001b[0m \u001b[0;34m**\u001b[0m\u001b[0mkwargs\u001b[0m\u001b[0;34m)\u001b[0m\u001b[0;34m\u001b[0m\u001b[0m\n\u001b[0m\u001b[1;32m    232\u001b[0m         \u001b[0;32melse\u001b[0m\u001b[0;34m:\u001b[0m\u001b[0;34m\u001b[0m\u001b[0m\n\u001b[1;32m    233\u001b[0m             \u001b[0msr\u001b[0m\u001b[0;34m(\u001b[0m\u001b[0;34m'count'\u001b[0m\u001b[0;34m)\u001b[0m\u001b[0;34m\u001b[0m\u001b[0m\n",
      "\u001b[0;32m/home/debastiani/lascon/nest-simulator-2.14.0-build/lib/python2.7/site-packages/nest/lib/hl_api_info.pyc\u001b[0m in \u001b[0;36mGetStatus\u001b[0;34m(nodes, keys)\u001b[0m\n\u001b[1;32m    275\u001b[0m         \u001b[0msps\u001b[0m\u001b[0;34m(\u001b[0m\u001b[0mnodes\u001b[0m\u001b[0;34m)\u001b[0m\u001b[0;34m\u001b[0m\u001b[0m\n\u001b[1;32m    276\u001b[0m \u001b[0;34m\u001b[0m\u001b[0m\n\u001b[0;32m--> 277\u001b[0;31m     \u001b[0msr\u001b[0m\u001b[0;34m(\u001b[0m\u001b[0mcmd\u001b[0m\u001b[0;34m)\u001b[0m\u001b[0;34m\u001b[0m\u001b[0m\n\u001b[0m\u001b[1;32m    278\u001b[0m \u001b[0;34m\u001b[0m\u001b[0m\n\u001b[1;32m    279\u001b[0m     \u001b[0;32mreturn\u001b[0m \u001b[0mspp\u001b[0m\u001b[0;34m(\u001b[0m\u001b[0;34m)\u001b[0m\u001b[0;34m\u001b[0m\u001b[0m\n",
      "\u001b[0;32m/home/debastiani/lascon/nest-simulator-2.14.0-build/lib/python2.7/site-packages/nest/__init__.pyc\u001b[0m in \u001b[0;36mcatching_sli_run\u001b[0;34m(cmd)\u001b[0m\n\u001b[1;32m    115\u001b[0m         \u001b[0mengine\u001b[0m\u001b[0;34m.\u001b[0m\u001b[0mrun\u001b[0m\u001b[0;34m(\u001b[0m\u001b[0;34m'clear'\u001b[0m\u001b[0;34m)\u001b[0m\u001b[0;34m\u001b[0m\u001b[0m\n\u001b[1;32m    116\u001b[0m         \u001b[0merrorstring\u001b[0m \u001b[0;34m=\u001b[0m \u001b[0;34m'%s in %s%s'\u001b[0m \u001b[0;34m%\u001b[0m \u001b[0;34m(\u001b[0m\u001b[0merrorname\u001b[0m\u001b[0;34m,\u001b[0m \u001b[0mcommandname\u001b[0m\u001b[0;34m,\u001b[0m \u001b[0mmessage\u001b[0m\u001b[0;34m)\u001b[0m\u001b[0;34m\u001b[0m\u001b[0m\n\u001b[0;32m--> 117\u001b[0;31m         \u001b[0;32mraise\u001b[0m \u001b[0m_kernel\u001b[0m\u001b[0;34m.\u001b[0m\u001b[0mNESTError\u001b[0m\u001b[0;34m(\u001b[0m\u001b[0mencode\u001b[0m\u001b[0;34m(\u001b[0m\u001b[0merrorstring\u001b[0m\u001b[0;34m)\u001b[0m\u001b[0;34m)\u001b[0m\u001b[0;34m\u001b[0m\u001b[0m\n\u001b[0m\u001b[1;32m    118\u001b[0m \u001b[0;34m\u001b[0m\u001b[0m\n\u001b[1;32m    119\u001b[0m \u001b[0msli_run\u001b[0m \u001b[0;34m=\u001b[0m \u001b[0mhl_api\u001b[0m\u001b[0;34m.\u001b[0m\u001b[0msr\u001b[0m \u001b[0;34m=\u001b[0m \u001b[0mcatching_sli_run\u001b[0m\u001b[0;34m\u001b[0m\u001b[0m\n",
      "\u001b[0;31mNESTError\u001b[0m: DictError in get_d: Key '/topology' does not exist in dictionary."
     ]
    },
    {
     "data": {
      "image/png": "[encoded data removed]",
      "text/plain": [
       "<matplotlib.figure.Figure at 0x7fb6a22dc4d0>"
      ]
     },
     "metadata": {},
     "output_type": "display_data"
    }
   ],
   "source": [
    "layer = mc[0]\n",
    "conn_dict = conn_pp\n",
    "\n",
    "fig = topo.PlotLayer(layer)\n",
    "ctr = topo.FindCenterElement(noiselayer) # extract GID of poisson generator\n",
    "topo.PlotTargets(ctr, layer, fig=fig, mask=conn_dict['mask'], mask_color='green',\n",
    "                 src_size=250, src_color='red',\n",
    "                 tgt_size=20, tgt_color='red')\n",
    "   \n",
    "# beautify\n",
    "pylab.axes().set_xticks(pylab.arange(-ext_hc*4., ext_hc*4., 0.640))\n",
    "pylab.axes().set_yticks(pylab.arange(-ext_hc*4., ext_hc*4., 0.640))\n",
    "pylab.grid(True)\n",
    "print(ctr)"
   ]
  },
  {
   "cell_type": "code",
   "execution_count": null,
   "metadata": {
    "collapsed": true
   },
   "outputs": [],
   "source": []
  },
  {
   "cell_type": "code",
   "execution_count": null,
   "metadata": {
    "collapsed": true
   },
   "outputs": [],
   "source": []
  },
  {
   "cell_type": "code",
   "execution_count": null,
   "metadata": {
    "collapsed": true
   },
   "outputs": [],
   "source": []
  },
  {
   "cell_type": "code",
   "execution_count": null,
   "metadata": {
    "collapsed": true
   },
   "outputs": [],
   "source": []
  },
  {
   "cell_type": "code",
   "execution_count": null,
   "metadata": {
    "collapsed": true
   },
   "outputs": [],
   "source": []
  },
  {
   "cell_type": "code",
   "execution_count": null,
   "metadata": {
    "collapsed": true
   },
   "outputs": [],
   "source": []
  },
  {
   "cell_type": "code",
   "execution_count": null,
   "metadata": {
    "collapsed": true
   },
   "outputs": [],
   "source": []
  },
  {
   "cell_type": "code",
   "execution_count": null,
   "metadata": {
    "collapsed": true
   },
   "outputs": [],
   "source": []
  },
  {
   "cell_type": "code",
   "execution_count": null,
   "metadata": {
    "collapsed": true
   },
   "outputs": [],
   "source": []
  }
 ],
 "metadata": {
  "kernelspec": {
   "display_name": "Python 2",
   "language": "python",
   "name": "python2"
  },
  "language_info": {
   "codemirror_mode": {
    "name": "ipython",
    "version": 2
   },
   "file_extension": ".py",
   "mimetype": "text/x-python",
   "name": "python",
   "nbconvert_exporter": "python",
   "pygments_lexer": "ipython2",
   "version": "2.7.14"
  }
 },
 "nbformat": 4,
 "nbformat_minor": 2
}
