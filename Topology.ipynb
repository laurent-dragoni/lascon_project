{
 "cells": [
  {
   "cell_type": "code",
   "execution_count": 137,
   "metadata": {},
   "outputs": [
    {
     "name": "stdout",
     "output_type": "stream",
     "text": [
      "Populating the interactive namespace from numpy and matplotlib\n"
     ]
    }
   ],
   "source": [
    "%pylab inline"
   ]
  },
  {
   "cell_type": "code",
   "execution_count": 138,
   "metadata": {
    "collapsed": true
   },
   "outputs": [],
   "source": [
    "import nest\n",
    "import nest.topology as topo # import topology as a submodule of nest\n",
    "import nest.raster_plot\n",
    "import numpy as np"
   ]
  },
  {
   "cell_type": "code",
   "execution_count": 147,
   "metadata": {
    "collapsed": true
   },
   "outputs": [],
   "source": [
    "nest.ResetKernel()"
   ]
  },
  {
   "cell_type": "code",
   "execution_count": 148,
   "metadata": {},
   "outputs": [],
   "source": [
    "ext = 2. # here we use a square layer of size (ext x ext)\n",
    "n_mc=30  #pyramidal neurons in each minicolumn\n",
    "\n",
    "pos = [[np.random.uniform(-ext/2,ext/2), np.random.uniform(-ext/2,ext/2)] for j in range(n_mc)]  #position of each pyramidal neuron\n",
    "\n",
    "layer2 = {\n",
    "    'extent': [ext, ext],\n",
    "    'positions': pos,\n",
    "    #'elements': 'iaf_neuron'\n",
    "    'elements': 'aeif_cond_alpha'  #adaptative exponential integrate and firing as neuron model\n",
    "}"
   ]
  },
  {
   "cell_type": "code",
   "execution_count": 149,
   "metadata": {},
   "outputs": [],
   "source": [
    "n_top=192  #number of minicollumns (12 in each of the 16 hipercolumns)\n",
    "mc=[0]*n_to\n",
    "for i in range (0,n_top-1):  #create the minicollumns\n",
    "    mc[i]=topo.CreateLayer(layer2)"
   ]
  },
  {
   "cell_type": "code",
   "execution_count": 150,
   "metadata": {
    "scrolled": true
   },
   "outputs": [],
   "source": [
    "# circular mask, gaussian kernel\n",
    "conn1 = {\n",
    "    'connection_type': 'divergent', # convergent or divergent\n",
    "    'mask': {'circular': {'radius': 2.}},\n",
    "    'kernel': {'gaussian': {'p_center': 1., 'sigma': 5}}, # \n",
    "    'allow_autapses': False\n",
    "}\n",
    "\n",
    "\n",
    "# rectangular mask, constant kernel, non-centered anchor\n",
    "conn2 = {\n",
    "    'connection_type': 'divergent',\n",
    "    'mask': {'rectangular': {'lower_left': [-1., -1.], 'upper_right': [1.,1.]},\n",
    "             'anchor': [0.0, 0.0]\n",
    "             },\n",
    "    'kernel': 0.75,\n",
    "    'allow_autapses': False\n",
    "}\n",
    "\n",
    "\n",
    "# doughnut mask, linear kernel that decreases with distance\n",
    "conn3 = {\n",
    "    'connection_type': 'divergent',\n",
    "    'mask': {'doughnut': {'inner_radius': 0.3, 'outer_radius': 0.8}},\n",
    "    'kernel': {'linear': {'c': 1., 'a': -0.9}}\n",
    "}\n",
    "\n",
    "\n",
    "# rectangle mask, fixed number of connections, gaussian weights, linear delays\n",
    "conn4 = {\n",
    "    'connection_type': 'divergent',\n",
    "    'mask': {'rectangular': {'lower_left': [-0.5, -0.5], 'upper_right': [0.5, 0.5]}},\n",
    "    'number_of_connections': 20,\n",
    "    'weights': {'gaussian': {'p_center': 1.5, 'sigma': 0.25}},\n",
    "    'delays': {'linear': {'c': 0.1, 'a': 0.2}},\n",
    "    'allow_autapses': False\n",
    "}\n",
    "#\n",
    "#\n",
    "#\n",
    "#EVERYTHING RIGHT UNTIL HERE!\n",
    "#\n",
    "#\n",
    "#"
   ]
  },
  {
   "cell_type": "code",
   "execution_count": null,
   "metadata": {},
   "outputs": [],
   "source": []
  },
  {
   "cell_type": "code",
   "execution_count": 151,
   "metadata": {},
   "outputs": [],
   "source": [
    "# make a copy of the poisson_generator model and specify the rate\n",
    "nest.CopyModel('poisson_generator', 'my_poisson_generator', {'rate': 200000.} )\n",
    "\n",
    "noise_layer_dict = {\n",
    "    'extent': [ext, ext],\n",
    "    'positions': [[0.0, 0.0]],\n",
    "    'elements': 'my_poisson_generator'\n",
    "}"
   ]
  },
  {
   "cell_type": "code",
   "execution_count": 152,
   "metadata": {},
   "outputs": [],
   "source": [
    "noiselayer = topo.CreateLayer(noise_layer_dict)  "
   ]
  },
  {
   "cell_type": "code",
   "execution_count": 153,
   "metadata": {},
   "outputs": [],
   "source": [
    "for j in range(0,n_top-1):  #connect layer to poisson generator\n",
    "    topo.ConnectLayers(noiselayer, mc[j], conn2)"
   ]
  },
  {
   "cell_type": "code",
   "execution_count": 154,
   "metadata": {},
   "outputs": [
    {
     "name": "stdout",
     "output_type": "stream",
     "text": [
      "(5923,)\n"
     ]
    },
    {
     "data": {
      "image/png": "[encoded data removed]",
      "text/plain": [
       "<matplotlib.figure.Figure at 0x7f5949848890>"
      ]
     },
     "metadata": {},
     "output_type": "display_data"
    }
   ],
   "source": [
    "layer = mc[0]\n",
    "conn_dict = conn1\n",
    "\n",
    "fig = topo.PlotLayer(layer)\n",
    "ctr = topo.FindCenterElement(noiselayer) # extract GID of poisson generator\n",
    "topo.PlotTargets(ctr, layer, fig=fig, mask=conn_dict['mask'], mask_color='green',\n",
    "                 src_size=250, src_color='red',\n",
    "                 tgt_size=20, tgt_color='red')\n",
    "   \n",
    "# beautify\n",
    "pylab.axes().set_xticks(pylab.arange(-ext/2., ext/2.+0.5, 0.5))\n",
    "pylab.axes().set_yticks(pylab.arange(-ext/2., ext/2.+0.5, 0.5))\n",
    "pylab.grid(True)\n",
    "print(ctr)"
   ]
  },
  {
   "cell_type": "code",
   "execution_count": null,
   "metadata": {
    "collapsed": true
   },
   "outputs": [],
   "source": []
  },
  {
   "cell_type": "code",
   "execution_count": null,
   "metadata": {
    "collapsed": true
   },
   "outputs": [],
   "source": []
  },
  {
   "cell_type": "code",
   "execution_count": null,
   "metadata": {},
   "outputs": [],
   "source": []
  },
  {
   "cell_type": "code",
   "execution_count": null,
   "metadata": {},
   "outputs": [],
   "source": []
  },
  {
   "cell_type": "code",
   "execution_count": null,
   "metadata": {
    "collapsed": true
   },
   "outputs": [],
   "source": []
  },
  {
   "cell_type": "code",
   "execution_count": null,
   "metadata": {
    "collapsed": true
   },
   "outputs": [],
   "source": []
  },
  {
   "cell_type": "code",
   "execution_count": null,
   "metadata": {
    "collapsed": true
   },
   "outputs": [],
   "source": []
  },
  {
   "cell_type": "code",
   "execution_count": null,
   "metadata": {
    "collapsed": true
   },
   "outputs": [],
   "source": []
  }
 ],
 "metadata": {
  "kernelspec": {
   "display_name": "Python 2",
   "language": "python",
   "name": "python2"
  },
  "language_info": {
   "codemirror_mode": {
    "name": "ipython",
    "version": 2
   },
   "file_extension": ".py",
   "mimetype": "text/x-python",
   "name": "python",
   "nbconvert_exporter": "python",
   "pygments_lexer": "ipython2",
   "version": "2.7.14"
  }
 },
 "nbformat": 4,
 "nbformat_minor": 2
}
